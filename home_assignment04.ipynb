{
  "cells": [
    {
      "cell_type": "markdown",
      "metadata": {
        "id": "view-in-github",
        "colab_type": "text"
      },
      "source": [
        "<a href=\"https://colab.research.google.com/github/Philip1435/python-for-ML/blob/main/home_assignment04.ipynb\" target=\"_parent\"><img src=\"https://colab.research.google.com/assets/colab-badge.svg\" alt=\"Open In Colab\"/></a>"
      ]
    },
    {
      "cell_type": "markdown",
      "metadata": {
        "id": "hia1cPPnbt-6"
      },
      "source": [
        "## Exercise 0\n",
        "\n",
        "Write your own simple function with simple documentation and all types of arguments (positional, positional with defaults, arbitrary args, keyword args, arbitrary keyword args)"
      ]
    },
    {
      "cell_type": "code",
      "execution_count": 7,
      "metadata": {
        "id": "82YW6fgZbppO"
      },
      "outputs": [],
      "source": [
        "# your code here\n",
        "def my_function(a, b=True, *args, c, **kwargs):\n",
        "    pass"
      ]
    },
    {
      "cell_type": "markdown",
      "metadata": {
        "id": "HYhlKVnwTYzD"
      },
      "source": [
        "## Exercise 1\n"
      ]
    },
    {
      "cell_type": "code",
      "execution_count": 4,
      "metadata": {
        "id": "gv_TvLaHTXh8"
      },
      "outputs": [],
      "source": [
        "def is_prime(n):\n",
        "    \"\"\"\n",
        "    Check if the number is prime or not.\n",
        "    \"\"\"\n",
        "    # your code here\n",
        "    for i in range(2, int(n**0.5)+1):\n",
        "        if (n % i == 0):\n",
        "            return False\n",
        "    return True"
      ]
    },
    {
      "cell_type": "markdown",
      "metadata": {
        "id": "1FXsMX-RKOBG"
      },
      "source": [
        "## Exercise 2\n",
        "\n",
        "[Inspect](https://docs.python.org/3.7/library/inspect.html) will help you. Use `my_function` for tests.\n",
        "\n"
      ]
    },
    {
      "cell_type": "code",
      "execution_count": 26,
      "metadata": {
        "id": "g68Y9DfNQcYD"
      },
      "outputs": [],
      "source": [
        "import inspect\n",
        "\n",
        "def inspect_function(func):\n",
        "    \"\"\"\n",
        "    Takes another function as an argument (but not built-in) \n",
        "    and print the following data: \n",
        "    the name of the analyzed function, \n",
        "    the name of all the arguments it takes \n",
        "    and their types (positional, keyword, etc.)\n",
        "    \"\"\"\n",
        "    # your code here\n",
        "    print('name', func.__name__)\n",
        "    fullarg = inspect.getfullargspec(func)\n",
        "    # print(inspect.getfullargspec(func))\n",
        "    print('positional arguments:', *fullarg.args)\n",
        "    print('arbitrary positional arguments:', fullarg.varargs)\n",
        "    print('arbitrary keyword arguments:', fullarg.varkw)\n",
        "    print('keyword-only arguments:', *fullarg.kwonlyargs)"
      ]
    },
    {
      "cell_type": "code",
      "source": [
        "inspect_function(my_function)"
      ],
      "metadata": {
        "colab": {
          "base_uri": "https://localhost:8080/"
        },
        "id": "20hhDjgyWcSZ",
        "outputId": "7974bb6b-bb09-419b-f551-dfc82e3d854a"
      },
      "execution_count": 27,
      "outputs": [
        {
          "output_type": "stream",
          "name": "stdout",
          "text": [
            "name my_function\n",
            "positional arguments: a b\n",
            "arbitrary positional arguments: args\n",
            "arbitrary keyword arguments: kwargs\n",
            "keyword-only arguments: c\n"
          ]
        }
      ]
    },
    {
      "cell_type": "markdown",
      "metadata": {
        "id": "oRaKEc0ZIgNs"
      },
      "source": [
        "## Exercise 3"
      ]
    },
    {
      "cell_type": "markdown",
      "metadata": {
        "id": "xmdOYiCrGpUd"
      },
      "source": [
        "The `my_time_now` function is not working correctly. Correct it so that it displays the current time with a message. "
      ]
    },
    {
      "cell_type": "code",
      "execution_count": 28,
      "metadata": {
        "id": "645BoTXIGnHr"
      },
      "outputs": [],
      "source": [
        "from datetime import datetime\n",
        "from time import sleep\n",
        " \n",
        "# wrong function\n",
        "def my_time_now(msg, *, dt=datetime):\n",
        "    print(msg, dt.now())\n"
      ]
    },
    {
      "cell_type": "code",
      "execution_count": 29,
      "metadata": {
        "id": "3NeyF9UJHeyd",
        "outputId": "23400c0b-2590-40ff-9479-c7cec04cfc8f",
        "colab": {
          "base_uri": "https://localhost:8080/"
        }
      },
      "outputs": [
        {
          "output_type": "stream",
          "name": "stdout",
          "text": [
            "The time is now:  2022-10-08 06:53:23.826849\n",
            "The time is now:  2022-10-08 06:53:24.831182\n",
            "The time is now:  2022-10-08 06:53:25.832671\n"
          ]
        }
      ],
      "source": [
        "# simple tests :)\n",
        "my_time_now('The time is now: ')\n",
        "sleep(1)\n",
        "my_time_now('The time is now: ')\n",
        "sleep(1)\n",
        "my_time_now('The time is now: ')"
      ]
    },
    {
      "cell_type": "markdown",
      "metadata": {
        "id": "Qap8_Jb2ENra"
      },
      "source": [
        "## Exercise 4"
      ]
    },
    {
      "cell_type": "code",
      "execution_count": 42,
      "metadata": {
        "id": "JBwZGo84EMW1"
      },
      "outputs": [],
      "source": [
        "def limit(input_generator, max_count):\n",
        "    \"\"\"\n",
        "    Generator that returns not more than max_count values of the input_generator.\n",
        "    \"\"\"\n",
        "    # your code here\n",
        "    for _ in range(max_count):\n",
        "        yield next(input_generator)\n",
        "    # raise NotImplementedError"
      ]
    },
    {
      "cell_type": "markdown",
      "metadata": {
        "id": "BvwCKaOxRQ3N"
      },
      "source": [
        "## Exercise 5\n",
        "\n",
        "Write a generator for an infinite sequence of numbers from the Pascal's triangle. The sequence look like this:\n",
        "`1 1 1 1 2 1 1 3 3 1 1 4 6 4 1 1 5 10 10 5 1 1 6 15 20 15 6 1 1 7 21 35 35 21 7 1 1 8 28 56 70 56 28 8 1 1 9 36 84 126 126 84 36 9 1 ... '\n",
        "\n",
        "Test it with a generator from the previous task)"
      ]
    },
    {
      "cell_type": "code",
      "execution_count": 65,
      "metadata": {
        "id": "EBNNXBUYUqKJ"
      },
      "outputs": [],
      "source": [
        "# your code here\n",
        "def generate_pascal():\n",
        "    row = [1]\n",
        "    while True:\n",
        "        yield row\n",
        "        row = [1] + [row[i] + row[i + 1] for i in range(len(row) - 1)] + [1]\n",
        "                   "
      ]
    },
    {
      "cell_type": "code",
      "source": [
        "list(limit(generate_pascal(), 3))"
      ],
      "metadata": {
        "colab": {
          "base_uri": "https://localhost:8080/"
        },
        "id": "TYQ0El5hadE6",
        "outputId": "8aa4386a-7e56-4e1f-f862-a7f3000659d2"
      },
      "execution_count": 66,
      "outputs": [
        {
          "output_type": "execute_result",
          "data": {
            "text/plain": [
              "[[1], [1, 1], [1, 2, 1]]"
            ]
          },
          "metadata": {},
          "execution_count": 66
        }
      ]
    },
    {
      "cell_type": "markdown",
      "metadata": {
        "id": "vUiY14pIEiNC"
      },
      "source": [
        "## Exercise 6\n"
      ]
    },
    {
      "cell_type": "code",
      "execution_count": 32,
      "metadata": {
        "id": "eGLSDqNHGFYn"
      },
      "outputs": [],
      "source": [
        "import pathlib  # can change to os module if you want\n",
        "import os\n",
        "import sys\n",
        "\n",
        "def files_sorted_by_size(path_to_dir):\n",
        "    \"\"\"\n",
        "    Return a list of files in path_to_dir sorted by size.\n",
        "    The same size files sorted alphabetically\n",
        "    \"\"\"\n",
        "    # your code here\n",
        "    files = os.listdir(path_to_dir)\n",
        "    return sorted(files, key = lambda x: os.stat(os.path.join(path_to_dir, x)).st_size)\n",
        "    raise NotImplementedError"
      ]
    },
    {
      "cell_type": "code",
      "source": [
        "files_sorted_by_size('/content/sample_data')"
      ],
      "metadata": {
        "colab": {
          "base_uri": "https://localhost:8080/"
        },
        "id": "tDfrNiycYC3i",
        "outputId": "1593e7a7-df82-4044-bfb0-9bdedf4a6ae6"
      },
      "execution_count": 33,
      "outputs": [
        {
          "output_type": "execute_result",
          "data": {
            "text/plain": [
              "['README.md',\n",
              " 'anscombe.json',\n",
              " 'california_housing_test.csv',\n",
              " 'california_housing_train.csv',\n",
              " 'mnist_test.csv',\n",
              " 'mnist_train_small.csv']"
            ]
          },
          "metadata": {},
          "execution_count": 33
        }
      ]
    },
    {
      "cell_type": "markdown",
      "metadata": {
        "id": "43eeoixHSa9Y"
      },
      "source": [
        "## Exercise 7\n",
        "\n",
        "Write a `merge_sorter` generator that merges sorted sequences of integers.\n",
        "\n",
        "The generator takes an arbitrary number of arguments. The argument can be any iterable, including another generator. It is guaranteed that each argument is a sequence of integers, sorted in non-decreasing order."
      ]
    },
    {
      "cell_type": "code",
      "source": [
        "def merge_sort(a, b):\n",
        "    out = []\n",
        "    while a and b:\n",
        "        if a[0] <= b[0]:\n",
        "            out.append(a.pop(0))\n",
        "            continue\n",
        "        if a[0] > b[0]:\n",
        "            out.append(b.pop(0))\n",
        "            continue\n",
        "    if a:\n",
        "        out += a\n",
        "    if b:\n",
        "        out += b\n",
        "    return out"
      ],
      "metadata": {
        "id": "1LEzySCkd04W"
      },
      "execution_count": 81,
      "outputs": []
    },
    {
      "cell_type": "code",
      "source": [
        "def merge_sorter(*args):\n",
        "    # your code here\n",
        "    args = list(args)\n",
        "    current_iter = [next(a) for a in args]\n",
        "    while args:\n",
        "        # print(current_iter)\n",
        "        min_num = min(current_iter)\n",
        "        min_index = current_iter.index(min_num)\n",
        "        try:\n",
        "            current_iter[min_index] = next(args[min_index])\n",
        "        except StopIteration:\n",
        "            current_iter.pop(min_index)\n",
        "            args.pop(min_index)\n",
        "        yield min_num\n",
        "\n",
        "    # raise NotImplementedError"
      ],
      "metadata": {
        "id": "6iTWyVOVf2iZ"
      },
      "execution_count": 137,
      "outputs": []
    },
    {
      "cell_type": "code",
      "source": [
        "a = (i for i in range(11))\n",
        "b = (i for i in range(3, 50, 5))"
      ],
      "metadata": {
        "id": "9JJxGQ5bc4YM"
      },
      "execution_count": 144,
      "outputs": []
    },
    {
      "cell_type": "code",
      "source": [
        "merge_sorter(a, b)"
      ],
      "metadata": {
        "colab": {
          "base_uri": "https://localhost:8080/"
        },
        "id": "cUQ_Xo3sc-gA",
        "outputId": "5bf36556-efb4-4ecd-f05f-aa1c150ce839"
      },
      "execution_count": 154,
      "outputs": [
        {
          "output_type": "execute_result",
          "data": {
            "text/plain": [
              "<generator object merge_sorter at 0x7fdc5e901550>"
            ]
          },
          "metadata": {},
          "execution_count": 154
        }
      ]
    },
    {
      "cell_type": "markdown",
      "metadata": {
        "id": "7AF_IQRQVQ-k"
      },
      "source": [
        "## Exercise 8\n",
        "\n",
        "Write the decorator `proﬁler`, which, when calling a function, will store in its attributes (not to be confused with arguments) the time of its execution (in seconds, it can be fractional) and the number of recursive calls that occurred during execution. Name the attributes `last_time_taken` and `calls`.\n",
        "It is forbidden to use global variables.\n",
        "The decorator must behave in a decent manner, that is, it must not overwrite the function's documentation.\n",
        "\n",
        "For tests write [Ackermann function](https://en.wikipedia.org/wiki/Ackermann_function)"
      ]
    },
    {
      "cell_type": "markdown",
      "source": [
        "very nice way to measure runtime, unfortunately cannot find a way to count recursive calls with this approach"
      ],
      "metadata": {
        "id": "ul_qMLwSXbsL"
      }
    },
    {
      "cell_type": "code",
      "source": [
        "import time\n",
        "\n",
        "def profiler(func):\n",
        "    def inner(*args, **kwargs):\n",
        "        begin = time.time()\n",
        "        result = func(*args, **kwargs)\n",
        "        end = time.time()\n",
        "        last_time_taken = end - begin\n",
        "        print('total time: ', last_time_taken)\n",
        "        return result\n",
        "    return inner\n",
        "\n",
        "@profiler\n",
        "def ackermann(m, n):\n",
        "    def inner(m, n):\n",
        "        if m == 0:\n",
        "            return n + 1\n",
        "        if n == 0:\n",
        "            return inner(m - 1, 1)\n",
        "        n2 = inner(m, n - 1)\n",
        "        return inner(m - 1, n2)\n",
        "    return inner(m, n)\n",
        "\n",
        "ackermann(1, 2)"
      ],
      "metadata": {
        "colab": {
          "base_uri": "https://localhost:8080/"
        },
        "id": "aVUa8bLQ3kOM",
        "outputId": "6a746a9f-eb40-4ded-c2e2-d5e39daf8505"
      },
      "execution_count": 62,
      "outputs": [
        {
          "output_type": "stream",
          "name": "stdout",
          "text": [
            "total time:  2.86102294921875e-06\n"
          ]
        },
        {
          "output_type": "execute_result",
          "data": {
            "text/plain": [
              "4"
            ]
          },
          "metadata": {},
          "execution_count": 62
        }
      ]
    },
    {
      "cell_type": "markdown",
      "source": [
        "don't really think this is a good approach but don't really know how to do this."
      ],
      "metadata": {
        "id": "yVBZP6nNcXZU"
      }
    },
    {
      "cell_type": "code",
      "source": [
        "import time\n",
        "\n",
        "def profiler(func):\n",
        "    profiler.count = 0\n",
        "    profiler.time = 0\n",
        "    def inner(m, n):\n",
        "        profiler.count += 1\n",
        "        begin = time.time()\n",
        "        result = func(m, n)\n",
        "        end = time.time()\n",
        "        last_time_taken = end - begin\n",
        "        profiler.time += last_time_taken\n",
        "        return result\n",
        "    return inner\n",
        "\n",
        "@profiler\n",
        "def ackermann(m, n):\n",
        "    # your code here\n",
        "    if m == 0:\n",
        "        return n + 1\n",
        "    if n == 0:\n",
        "        return ackermann(m - 1, 1)\n",
        "    n2 = ackermann(m, n - 1)\n",
        "    return ackermann(m - 1, n2)\n",
        "\n",
        "\n",
        "print(ackermann(1, 2))\n",
        "print('count', profiler.count)\n",
        "print('time', profiler.time)"
      ],
      "metadata": {
        "colab": {
          "base_uri": "https://localhost:8080/"
        },
        "id": "kTC8l11nRup2",
        "outputId": "978711c5-0548-4a98-ee75-7a698c978311"
      },
      "execution_count": 66,
      "outputs": [
        {
          "output_type": "stream",
          "name": "stdout",
          "text": [
            "4\n",
            "count 6\n",
            "time 2.5987625122070312e-05\n"
          ]
        }
      ]
    },
    {
      "cell_type": "markdown",
      "metadata": {
        "id": "QcjAealUfs2Q"
      },
      "source": [
        "## Exercise 9\n",
        "\n",
        "Write the function `encode` that implements [run-length encoding](https://en.wikipedia.org/wiki/Run-length_encoding) algorithm"
      ]
    },
    {
      "cell_type": "code",
      "execution_count": 166,
      "metadata": {
        "id": "tBhwbMm9fsMv"
      },
      "outputs": [],
      "source": [
        "def encode(sequence):\n",
        "    # your code here\n",
        "    curr = False\n",
        "    count = 0\n",
        "    result = ''\n",
        "    for c in str(sequence):\n",
        "        if not curr:\n",
        "            curr = c\n",
        "            count += 1\n",
        "            continue\n",
        "        if curr != c:\n",
        "            result = result + str(count) + curr\n",
        "            count = 1\n",
        "            curr = c\n",
        "            continue\n",
        "        count += 1\n",
        "    result = result + str(count) + curr\n",
        "    return result\n",
        "    raise NotImplementedError"
      ]
    },
    {
      "cell_type": "code",
      "source": [
        "encode('wwwabbbbcccc')"
      ],
      "metadata": {
        "colab": {
          "base_uri": "https://localhost:8080/",
          "height": 36
        },
        "id": "qiOB1Zadl4oL",
        "outputId": "f3e62984-3a13-4c45-911e-fa28514fd1ff"
      },
      "execution_count": 168,
      "outputs": [
        {
          "output_type": "execute_result",
          "data": {
            "text/plain": [
              "'3w1a4b4c'"
            ],
            "application/vnd.google.colaboratory.intrinsic+json": {
              "type": "string"
            }
          },
          "metadata": {},
          "execution_count": 168
        }
      ]
    }
  ],
  "metadata": {
    "colab": {
      "collapsed_sections": [],
      "provenance": [],
      "include_colab_link": true
    },
    "kernelspec": {
      "display_name": "Python 3 (ipykernel)",
      "language": "python",
      "name": "python3"
    },
    "language_info": {
      "codemirror_mode": {
        "name": "ipython",
        "version": 3
      },
      "file_extension": ".py",
      "mimetype": "text/x-python",
      "name": "python",
      "nbconvert_exporter": "python",
      "pygments_lexer": "ipython3",
      "version": "3.8.12"
    }
  },
  "nbformat": 4,
  "nbformat_minor": 0
}